{
 "cells": [
  {
   "cell_type": "code",
   "execution_count": 31,
   "outputs": [],
   "source": [
    "import numpy as np\n",
    "import datetime\n",
    "import pandas as pd\n",
    "import sqlite3"
   ],
   "metadata": {
    "collapsed": false
   }
  },
  {
   "cell_type": "markdown",
   "source": [
    "# 1. Data collection"
   ],
   "metadata": {
    "collapsed": false
   }
  },
  {
   "cell_type": "code",
   "execution_count": 32,
   "outputs": [],
   "source": [
    "data=pd.read_excel(\"C:/Users/Olga/Desktop/Data/FoodAccessResearchAtlasData2019.xlsx\")"
   ],
   "metadata": {
    "collapsed": false
   }
  },
  {
   "cell_type": "markdown",
   "source": [
    "## 1.1 Examining the data"
   ],
   "metadata": {
    "collapsed": false
   },
   "execution_count": 10
  },
  {
   "cell_type": "code",
   "execution_count": 33,
   "outputs": [
    {
     "data": {
      "text/plain": "False"
     },
     "execution_count": 33,
     "metadata": {},
     "output_type": "execute_result"
    }
   ],
   "source": [
    "data.empty"
   ],
   "metadata": {
    "collapsed": false
   }
  },
  {
   "cell_type": "code",
   "execution_count": 34,
   "outputs": [
    {
     "data": {
      "text/plain": "(72531, 147)"
     },
     "execution_count": 34,
     "metadata": {},
     "output_type": "execute_result"
    }
   ],
   "source": [
    "data.shape"
   ],
   "metadata": {
    "collapsed": false
   }
  },
  {
   "cell_type": "code",
   "execution_count": 35,
   "outputs": [
    {
     "data": {
      "text/plain": "   CensusTract    State          County  Urban  Pop2010  OHU2010  \\\n0   1001020100  Alabama  Autauga County      1     1912      693   \n1   1001020200  Alabama  Autauga County      1     2170      743   \n2   1001020300  Alabama  Autauga County      1     3373     1256   \n3   1001020400  Alabama  Autauga County      1     4386     1722   \n4   1001020500  Alabama  Autauga County      1    10766     4082   \n\n   GroupQuartersFlag  NUMGQTRS  PCTGQTRS  LILATracts_1And10  ...  \\\n0                  0       0.0  0.000000                  0  ...   \n1                  0     181.0  8.341014                  1  ...   \n2                  0       0.0  0.000000                  0  ...   \n3                  0       0.0  0.000000                  0  ...   \n4                  0     181.0  1.681219                  0  ...   \n\n   TractSeniors  TractWhite  TractBlack  TractAsian  TractNHOPI  TractAIAN  \\\n0         221.0      1622.0       217.0        14.0         0.0       14.0   \n1         214.0       888.0      1217.0         5.0         0.0        5.0   \n2         439.0      2576.0       647.0        17.0         5.0       11.0   \n3         904.0      4086.0       193.0        18.0         4.0       11.0   \n4        1126.0      8666.0      1437.0       296.0         9.0       48.0   \n\n   TractOMultir  TractHispanic  TractHUNV  TractSNAP  \n0          45.0           44.0        6.0      102.0  \n1          55.0           75.0       89.0      156.0  \n2         117.0           87.0       99.0      172.0  \n3          74.0           85.0       21.0       98.0  \n4         310.0          355.0      230.0      339.0  \n\n[5 rows x 147 columns]",
      "text/html": "<div>\n<style scoped>\n    .dataframe tbody tr th:only-of-type {\n        vertical-align: middle;\n    }\n\n    .dataframe tbody tr th {\n        vertical-align: top;\n    }\n\n    .dataframe thead th {\n        text-align: right;\n    }\n</style>\n<table border=\"1\" class=\"dataframe\">\n  <thead>\n    <tr style=\"text-align: right;\">\n      <th></th>\n      <th>CensusTract</th>\n      <th>State</th>\n      <th>County</th>\n      <th>Urban</th>\n      <th>Pop2010</th>\n      <th>OHU2010</th>\n      <th>GroupQuartersFlag</th>\n      <th>NUMGQTRS</th>\n      <th>PCTGQTRS</th>\n      <th>LILATracts_1And10</th>\n      <th>...</th>\n      <th>TractSeniors</th>\n      <th>TractWhite</th>\n      <th>TractBlack</th>\n      <th>TractAsian</th>\n      <th>TractNHOPI</th>\n      <th>TractAIAN</th>\n      <th>TractOMultir</th>\n      <th>TractHispanic</th>\n      <th>TractHUNV</th>\n      <th>TractSNAP</th>\n    </tr>\n  </thead>\n  <tbody>\n    <tr>\n      <th>0</th>\n      <td>1001020100</td>\n      <td>Alabama</td>\n      <td>Autauga County</td>\n      <td>1</td>\n      <td>1912</td>\n      <td>693</td>\n      <td>0</td>\n      <td>0.0</td>\n      <td>0.000000</td>\n      <td>0</td>\n      <td>...</td>\n      <td>221.0</td>\n      <td>1622.0</td>\n      <td>217.0</td>\n      <td>14.0</td>\n      <td>0.0</td>\n      <td>14.0</td>\n      <td>45.0</td>\n      <td>44.0</td>\n      <td>6.0</td>\n      <td>102.0</td>\n    </tr>\n    <tr>\n      <th>1</th>\n      <td>1001020200</td>\n      <td>Alabama</td>\n      <td>Autauga County</td>\n      <td>1</td>\n      <td>2170</td>\n      <td>743</td>\n      <td>0</td>\n      <td>181.0</td>\n      <td>8.341014</td>\n      <td>1</td>\n      <td>...</td>\n      <td>214.0</td>\n      <td>888.0</td>\n      <td>1217.0</td>\n      <td>5.0</td>\n      <td>0.0</td>\n      <td>5.0</td>\n      <td>55.0</td>\n      <td>75.0</td>\n      <td>89.0</td>\n      <td>156.0</td>\n    </tr>\n    <tr>\n      <th>2</th>\n      <td>1001020300</td>\n      <td>Alabama</td>\n      <td>Autauga County</td>\n      <td>1</td>\n      <td>3373</td>\n      <td>1256</td>\n      <td>0</td>\n      <td>0.0</td>\n      <td>0.000000</td>\n      <td>0</td>\n      <td>...</td>\n      <td>439.0</td>\n      <td>2576.0</td>\n      <td>647.0</td>\n      <td>17.0</td>\n      <td>5.0</td>\n      <td>11.0</td>\n      <td>117.0</td>\n      <td>87.0</td>\n      <td>99.0</td>\n      <td>172.0</td>\n    </tr>\n    <tr>\n      <th>3</th>\n      <td>1001020400</td>\n      <td>Alabama</td>\n      <td>Autauga County</td>\n      <td>1</td>\n      <td>4386</td>\n      <td>1722</td>\n      <td>0</td>\n      <td>0.0</td>\n      <td>0.000000</td>\n      <td>0</td>\n      <td>...</td>\n      <td>904.0</td>\n      <td>4086.0</td>\n      <td>193.0</td>\n      <td>18.0</td>\n      <td>4.0</td>\n      <td>11.0</td>\n      <td>74.0</td>\n      <td>85.0</td>\n      <td>21.0</td>\n      <td>98.0</td>\n    </tr>\n    <tr>\n      <th>4</th>\n      <td>1001020500</td>\n      <td>Alabama</td>\n      <td>Autauga County</td>\n      <td>1</td>\n      <td>10766</td>\n      <td>4082</td>\n      <td>0</td>\n      <td>181.0</td>\n      <td>1.681219</td>\n      <td>0</td>\n      <td>...</td>\n      <td>1126.0</td>\n      <td>8666.0</td>\n      <td>1437.0</td>\n      <td>296.0</td>\n      <td>9.0</td>\n      <td>48.0</td>\n      <td>310.0</td>\n      <td>355.0</td>\n      <td>230.0</td>\n      <td>339.0</td>\n    </tr>\n  </tbody>\n</table>\n<p>5 rows × 147 columns</p>\n</div>"
     },
     "execution_count": 35,
     "metadata": {},
     "output_type": "execute_result"
    }
   ],
   "source": [
    "data.head()"
   ],
   "metadata": {
    "collapsed": false
   }
  },
  {
   "cell_type": "code",
   "execution_count": 36,
   "outputs": [
    {
     "data": {
      "text/plain": "       CensusTract    State         County  Urban  Pop2010  OHU2010  \\\n72529  56045951100  Wyoming  Weston County      0     3314     1322   \n72530  56045951300  Wyoming  Weston County      1     3894     1699   \n\n       GroupQuartersFlag  NUMGQTRS  PCTGQTRS  LILATracts_1And10  ...  \\\n72529                  0     252.0  7.604104                  0  ...   \n72530                  0      61.0  1.566513                  0  ...   \n\n       TractSeniors  TractWhite  TractBlack  TractAsian  TractNHOPI  \\\n72529         499.0      3179.0        15.0        10.0         1.0   \n72530         650.0      3706.0         6.0        10.0         2.0   \n\n       TractAIAN  TractOMultir  TractHispanic  TractHUNV  TractSNAP  \n72529       47.0          62.0           91.0       47.0       34.0  \n72530       44.0         126.0          125.0       34.0      110.0  \n\n[2 rows x 147 columns]",
      "text/html": "<div>\n<style scoped>\n    .dataframe tbody tr th:only-of-type {\n        vertical-align: middle;\n    }\n\n    .dataframe tbody tr th {\n        vertical-align: top;\n    }\n\n    .dataframe thead th {\n        text-align: right;\n    }\n</style>\n<table border=\"1\" class=\"dataframe\">\n  <thead>\n    <tr style=\"text-align: right;\">\n      <th></th>\n      <th>CensusTract</th>\n      <th>State</th>\n      <th>County</th>\n      <th>Urban</th>\n      <th>Pop2010</th>\n      <th>OHU2010</th>\n      <th>GroupQuartersFlag</th>\n      <th>NUMGQTRS</th>\n      <th>PCTGQTRS</th>\n      <th>LILATracts_1And10</th>\n      <th>...</th>\n      <th>TractSeniors</th>\n      <th>TractWhite</th>\n      <th>TractBlack</th>\n      <th>TractAsian</th>\n      <th>TractNHOPI</th>\n      <th>TractAIAN</th>\n      <th>TractOMultir</th>\n      <th>TractHispanic</th>\n      <th>TractHUNV</th>\n      <th>TractSNAP</th>\n    </tr>\n  </thead>\n  <tbody>\n    <tr>\n      <th>72529</th>\n      <td>56045951100</td>\n      <td>Wyoming</td>\n      <td>Weston County</td>\n      <td>0</td>\n      <td>3314</td>\n      <td>1322</td>\n      <td>0</td>\n      <td>252.0</td>\n      <td>7.604104</td>\n      <td>0</td>\n      <td>...</td>\n      <td>499.0</td>\n      <td>3179.0</td>\n      <td>15.0</td>\n      <td>10.0</td>\n      <td>1.0</td>\n      <td>47.0</td>\n      <td>62.0</td>\n      <td>91.0</td>\n      <td>47.0</td>\n      <td>34.0</td>\n    </tr>\n    <tr>\n      <th>72530</th>\n      <td>56045951300</td>\n      <td>Wyoming</td>\n      <td>Weston County</td>\n      <td>1</td>\n      <td>3894</td>\n      <td>1699</td>\n      <td>0</td>\n      <td>61.0</td>\n      <td>1.566513</td>\n      <td>0</td>\n      <td>...</td>\n      <td>650.0</td>\n      <td>3706.0</td>\n      <td>6.0</td>\n      <td>10.0</td>\n      <td>2.0</td>\n      <td>44.0</td>\n      <td>126.0</td>\n      <td>125.0</td>\n      <td>34.0</td>\n      <td>110.0</td>\n    </tr>\n  </tbody>\n</table>\n<p>2 rows × 147 columns</p>\n</div>"
     },
     "execution_count": 36,
     "metadata": {},
     "output_type": "execute_result"
    }
   ],
   "source": [
    "data.tail(2)"
   ],
   "metadata": {
    "collapsed": false
   }
  },
  {
   "cell_type": "code",
   "execution_count": 37,
   "outputs": [
    {
     "data": {
      "text/plain": "Index(['CensusTract', 'State', 'County', 'Urban', 'Pop2010', 'OHU2010',\n       'GroupQuartersFlag', 'NUMGQTRS', 'PCTGQTRS', 'LILATracts_1And10',\n       ...\n       'TractSeniors', 'TractWhite', 'TractBlack', 'TractAsian', 'TractNHOPI',\n       'TractAIAN', 'TractOMultir', 'TractHispanic', 'TractHUNV', 'TractSNAP'],\n      dtype='object', length=147)"
     },
     "execution_count": 37,
     "metadata": {},
     "output_type": "execute_result"
    }
   ],
   "source": [
    "data.columns"
   ],
   "metadata": {
    "collapsed": false
   }
  },
  {
   "cell_type": "code",
   "execution_count": 38,
   "outputs": [
    {
     "data": {
      "text/plain": "CensusTract        int64\nState             object\nCounty            object\nUrban              int64\nPop2010            int64\n                  ...   \nTractAIAN        float64\nTractOMultir     float64\nTractHispanic    float64\nTractHUNV        float64\nTractSNAP        float64\nLength: 147, dtype: object"
     },
     "execution_count": 38,
     "metadata": {},
     "output_type": "execute_result"
    }
   ],
   "source": [
    "data.dtypes"
   ],
   "metadata": {
    "collapsed": false
   }
  },
  {
   "cell_type": "code",
   "execution_count": 39,
   "outputs": [
    {
     "name": "stdout",
     "output_type": "stream",
     "text": [
      "<class 'pandas.core.frame.DataFrame'>\n",
      "RangeIndex: 72531 entries, 0 to 72530\n",
      "Columns: 147 entries, CensusTract to TractSNAP\n",
      "dtypes: float64(126), int64(19), object(2)\n",
      "memory usage: 81.3+ MB\n"
     ]
    }
   ],
   "source": [
    "data.info()"
   ],
   "metadata": {
    "collapsed": false
   }
  },
  {
   "cell_type": "code",
   "execution_count": 39,
   "outputs": [],
   "source": [],
   "metadata": {
    "collapsed": false
   }
  },
  {
   "cell_type": "markdown",
   "source": [
    "## 1.2 Describing and summarizing the data"
   ],
   "metadata": {
    "collapsed": false
   }
  },
  {
   "cell_type": "code",
   "execution_count": 40,
   "outputs": [
    {
     "data": {
      "text/plain": "         CensusTract       State              County         Urban  \\\ncount   7.253100e+04       72531               72531  72531.000000   \nunique           NaN          51                1877           NaN   \ntop              NaN  California  Los Angeles County           NaN   \nfreq             NaN        8024                2334           NaN   \nmean    2.782573e+10         NaN                 NaN      0.760626   \nstd     1.581647e+10         NaN                 NaN      0.426704   \nmin     1.001020e+09         NaN                 NaN      0.000000   \n25%     1.212708e+10         NaN                 NaN      1.000000   \n50%     2.712979e+10         NaN                 NaN      1.000000   \n75%     4.103900e+10         NaN                 NaN      1.000000   \nmax     5.604595e+10         NaN                 NaN      1.000000   \n\n             Pop2010       OHU2010  GroupQuartersFlag      NUMGQTRS  \\\ncount   72531.000000  72531.000000       72531.000000  72506.000000   \nunique           NaN           NaN                NaN           NaN   \ntop              NaN           NaN                NaN           NaN   \nfreq             NaN           NaN                NaN           NaN   \nmean     4256.739022   1609.191821           0.007114    110.121549   \nstd      1955.987626    725.676046           0.084046    443.931753   \nmin         1.000000      0.000000           0.000000      0.000000   \n25%      2899.000000   1108.000000           0.000000      0.000000   \n50%      4011.000000   1525.000000           0.000000      7.000000   \n75%      5330.500000   2021.000000           0.000000     64.000000   \nmax     37452.000000  16043.000000           1.000000  19496.000000   \n\n            PCTGQTRS  LILATracts_1And10  ...  TractSeniors    TractWhite  \\\ncount   72506.000000       72531.000000  ...  72527.000000  72527.000000   \nunique           NaN                NaN  ...           NaN           NaN   \ntop              NaN                NaN  ...           NaN           NaN   \nfreq             NaN                NaN  ...           NaN           NaN   \nmean        2.708678           0.128125  ...    555.197113   3082.337157   \nstd         9.570881           0.334231  ...    351.805391   1796.364560   \nmin         0.000000           0.000000  ...      0.000000      0.000000   \n25%         0.000000           0.000000  ...    320.000000   1848.000000   \n50%         0.181130           0.000000  ...    497.000000   2914.000000   \n75%         1.565217           0.000000  ...    718.000000   4118.000000   \nmax       100.000000           1.000000  ...  17271.000000  28983.000000   \n\n          TractBlack    TractAsian    TractNHOPI     TractAIAN  TractOMultir  \\\ncount   72527.000000  72527.000000  72527.000000  72527.000000  72527.000000   \nunique           NaN           NaN           NaN           NaN           NaN   \ntop              NaN           NaN           NaN           NaN           NaN   \nfreq             NaN           NaN           NaN           NaN           NaN   \nmean      536.756160    202.327685      7.445655     40.152316    387.664649   \nstd       889.118109    435.878339     45.186581    177.378696    529.349680   \nmin         0.000000      0.000000      0.000000      0.000000      0.000000   \n25%        43.000000     17.000000      0.000000      7.000000     85.000000   \n50%       160.000000     58.000000      1.000000     15.000000    186.000000   \n75%       610.000000    189.000000      5.000000     33.000000    448.000000   \nmax     16804.000000  10485.000000   3491.000000   9009.000000   8839.000000   \n\n        TractHispanic     TractHUNV     TractSNAP  \ncount    72527.000000  72527.000000  72527.000000  \nunique            NaN           NaN           NaN  \ntop               NaN           NaN           NaN  \nfreq              NaN           NaN           NaN  \nmean       695.979277    143.709736    201.753182  \nstd       1119.472739    232.738869    185.760089  \nmin          0.000000      0.000000      0.000000  \n25%         88.000000     36.000000     67.000000  \n50%        243.000000     82.000000    152.000000  \n75%        751.000000    168.500000    282.000000  \nmax      15420.000000   6059.000000   2175.000000  \n\n[11 rows x 147 columns]",
      "text/html": "<div>\n<style scoped>\n    .dataframe tbody tr th:only-of-type {\n        vertical-align: middle;\n    }\n\n    .dataframe tbody tr th {\n        vertical-align: top;\n    }\n\n    .dataframe thead th {\n        text-align: right;\n    }\n</style>\n<table border=\"1\" class=\"dataframe\">\n  <thead>\n    <tr style=\"text-align: right;\">\n      <th></th>\n      <th>CensusTract</th>\n      <th>State</th>\n      <th>County</th>\n      <th>Urban</th>\n      <th>Pop2010</th>\n      <th>OHU2010</th>\n      <th>GroupQuartersFlag</th>\n      <th>NUMGQTRS</th>\n      <th>PCTGQTRS</th>\n      <th>LILATracts_1And10</th>\n      <th>...</th>\n      <th>TractSeniors</th>\n      <th>TractWhite</th>\n      <th>TractBlack</th>\n      <th>TractAsian</th>\n      <th>TractNHOPI</th>\n      <th>TractAIAN</th>\n      <th>TractOMultir</th>\n      <th>TractHispanic</th>\n      <th>TractHUNV</th>\n      <th>TractSNAP</th>\n    </tr>\n  </thead>\n  <tbody>\n    <tr>\n      <th>count</th>\n      <td>7.253100e+04</td>\n      <td>72531</td>\n      <td>72531</td>\n      <td>72531.000000</td>\n      <td>72531.000000</td>\n      <td>72531.000000</td>\n      <td>72531.000000</td>\n      <td>72506.000000</td>\n      <td>72506.000000</td>\n      <td>72531.000000</td>\n      <td>...</td>\n      <td>72527.000000</td>\n      <td>72527.000000</td>\n      <td>72527.000000</td>\n      <td>72527.000000</td>\n      <td>72527.000000</td>\n      <td>72527.000000</td>\n      <td>72527.000000</td>\n      <td>72527.000000</td>\n      <td>72527.000000</td>\n      <td>72527.000000</td>\n    </tr>\n    <tr>\n      <th>unique</th>\n      <td>NaN</td>\n      <td>51</td>\n      <td>1877</td>\n      <td>NaN</td>\n      <td>NaN</td>\n      <td>NaN</td>\n      <td>NaN</td>\n      <td>NaN</td>\n      <td>NaN</td>\n      <td>NaN</td>\n      <td>...</td>\n      <td>NaN</td>\n      <td>NaN</td>\n      <td>NaN</td>\n      <td>NaN</td>\n      <td>NaN</td>\n      <td>NaN</td>\n      <td>NaN</td>\n      <td>NaN</td>\n      <td>NaN</td>\n      <td>NaN</td>\n    </tr>\n    <tr>\n      <th>top</th>\n      <td>NaN</td>\n      <td>California</td>\n      <td>Los Angeles County</td>\n      <td>NaN</td>\n      <td>NaN</td>\n      <td>NaN</td>\n      <td>NaN</td>\n      <td>NaN</td>\n      <td>NaN</td>\n      <td>NaN</td>\n      <td>...</td>\n      <td>NaN</td>\n      <td>NaN</td>\n      <td>NaN</td>\n      <td>NaN</td>\n      <td>NaN</td>\n      <td>NaN</td>\n      <td>NaN</td>\n      <td>NaN</td>\n      <td>NaN</td>\n      <td>NaN</td>\n    </tr>\n    <tr>\n      <th>freq</th>\n      <td>NaN</td>\n      <td>8024</td>\n      <td>2334</td>\n      <td>NaN</td>\n      <td>NaN</td>\n      <td>NaN</td>\n      <td>NaN</td>\n      <td>NaN</td>\n      <td>NaN</td>\n      <td>NaN</td>\n      <td>...</td>\n      <td>NaN</td>\n      <td>NaN</td>\n      <td>NaN</td>\n      <td>NaN</td>\n      <td>NaN</td>\n      <td>NaN</td>\n      <td>NaN</td>\n      <td>NaN</td>\n      <td>NaN</td>\n      <td>NaN</td>\n    </tr>\n    <tr>\n      <th>mean</th>\n      <td>2.782573e+10</td>\n      <td>NaN</td>\n      <td>NaN</td>\n      <td>0.760626</td>\n      <td>4256.739022</td>\n      <td>1609.191821</td>\n      <td>0.007114</td>\n      <td>110.121549</td>\n      <td>2.708678</td>\n      <td>0.128125</td>\n      <td>...</td>\n      <td>555.197113</td>\n      <td>3082.337157</td>\n      <td>536.756160</td>\n      <td>202.327685</td>\n      <td>7.445655</td>\n      <td>40.152316</td>\n      <td>387.664649</td>\n      <td>695.979277</td>\n      <td>143.709736</td>\n      <td>201.753182</td>\n    </tr>\n    <tr>\n      <th>std</th>\n      <td>1.581647e+10</td>\n      <td>NaN</td>\n      <td>NaN</td>\n      <td>0.426704</td>\n      <td>1955.987626</td>\n      <td>725.676046</td>\n      <td>0.084046</td>\n      <td>443.931753</td>\n      <td>9.570881</td>\n      <td>0.334231</td>\n      <td>...</td>\n      <td>351.805391</td>\n      <td>1796.364560</td>\n      <td>889.118109</td>\n      <td>435.878339</td>\n      <td>45.186581</td>\n      <td>177.378696</td>\n      <td>529.349680</td>\n      <td>1119.472739</td>\n      <td>232.738869</td>\n      <td>185.760089</td>\n    </tr>\n    <tr>\n      <th>min</th>\n      <td>1.001020e+09</td>\n      <td>NaN</td>\n      <td>NaN</td>\n      <td>0.000000</td>\n      <td>1.000000</td>\n      <td>0.000000</td>\n      <td>0.000000</td>\n      <td>0.000000</td>\n      <td>0.000000</td>\n      <td>0.000000</td>\n      <td>...</td>\n      <td>0.000000</td>\n      <td>0.000000</td>\n      <td>0.000000</td>\n      <td>0.000000</td>\n      <td>0.000000</td>\n      <td>0.000000</td>\n      <td>0.000000</td>\n      <td>0.000000</td>\n      <td>0.000000</td>\n      <td>0.000000</td>\n    </tr>\n    <tr>\n      <th>25%</th>\n      <td>1.212708e+10</td>\n      <td>NaN</td>\n      <td>NaN</td>\n      <td>1.000000</td>\n      <td>2899.000000</td>\n      <td>1108.000000</td>\n      <td>0.000000</td>\n      <td>0.000000</td>\n      <td>0.000000</td>\n      <td>0.000000</td>\n      <td>...</td>\n      <td>320.000000</td>\n      <td>1848.000000</td>\n      <td>43.000000</td>\n      <td>17.000000</td>\n      <td>0.000000</td>\n      <td>7.000000</td>\n      <td>85.000000</td>\n      <td>88.000000</td>\n      <td>36.000000</td>\n      <td>67.000000</td>\n    </tr>\n    <tr>\n      <th>50%</th>\n      <td>2.712979e+10</td>\n      <td>NaN</td>\n      <td>NaN</td>\n      <td>1.000000</td>\n      <td>4011.000000</td>\n      <td>1525.000000</td>\n      <td>0.000000</td>\n      <td>7.000000</td>\n      <td>0.181130</td>\n      <td>0.000000</td>\n      <td>...</td>\n      <td>497.000000</td>\n      <td>2914.000000</td>\n      <td>160.000000</td>\n      <td>58.000000</td>\n      <td>1.000000</td>\n      <td>15.000000</td>\n      <td>186.000000</td>\n      <td>243.000000</td>\n      <td>82.000000</td>\n      <td>152.000000</td>\n    </tr>\n    <tr>\n      <th>75%</th>\n      <td>4.103900e+10</td>\n      <td>NaN</td>\n      <td>NaN</td>\n      <td>1.000000</td>\n      <td>5330.500000</td>\n      <td>2021.000000</td>\n      <td>0.000000</td>\n      <td>64.000000</td>\n      <td>1.565217</td>\n      <td>0.000000</td>\n      <td>...</td>\n      <td>718.000000</td>\n      <td>4118.000000</td>\n      <td>610.000000</td>\n      <td>189.000000</td>\n      <td>5.000000</td>\n      <td>33.000000</td>\n      <td>448.000000</td>\n      <td>751.000000</td>\n      <td>168.500000</td>\n      <td>282.000000</td>\n    </tr>\n    <tr>\n      <th>max</th>\n      <td>5.604595e+10</td>\n      <td>NaN</td>\n      <td>NaN</td>\n      <td>1.000000</td>\n      <td>37452.000000</td>\n      <td>16043.000000</td>\n      <td>1.000000</td>\n      <td>19496.000000</td>\n      <td>100.000000</td>\n      <td>1.000000</td>\n      <td>...</td>\n      <td>17271.000000</td>\n      <td>28983.000000</td>\n      <td>16804.000000</td>\n      <td>10485.000000</td>\n      <td>3491.000000</td>\n      <td>9009.000000</td>\n      <td>8839.000000</td>\n      <td>15420.000000</td>\n      <td>6059.000000</td>\n      <td>2175.000000</td>\n    </tr>\n  </tbody>\n</table>\n<p>11 rows × 147 columns</p>\n</div>"
     },
     "execution_count": 40,
     "metadata": {},
     "output_type": "execute_result"
    }
   ],
   "source": [
    "data.describe(include='all')"
   ],
   "metadata": {
    "collapsed": false
   }
  },
  {
   "cell_type": "code",
   "execution_count": 41,
   "outputs": [
    {
     "data": {
      "text/plain": "         CensusTract       State              County         Urban  \\\ncount   7.253100e+04       72531               72531  72531.000000   \nunique           NaN          51                1877           NaN   \ntop              NaN  California  Los Angeles County           NaN   \nfreq             NaN        8024                2334           NaN   \nmean    2.782573e+10         NaN                 NaN      0.760626   \nstd     1.581647e+10         NaN                 NaN      0.426704   \nmin     1.001020e+09         NaN                 NaN      0.000000   \n5%      6.001407e+09         NaN                 NaN      0.000000   \n50%     2.712979e+10         NaN                 NaN      1.000000   \n95%     5.176007e+10         NaN                 NaN      1.000000   \nmax     5.604595e+10         NaN                 NaN      1.000000   \n\n             Pop2010       OHU2010  GroupQuartersFlag      NUMGQTRS  \\\ncount   72531.000000  72531.000000       72531.000000  72506.000000   \nunique           NaN           NaN                NaN           NaN   \ntop              NaN           NaN                NaN           NaN   \nfreq             NaN           NaN                NaN           NaN   \nmean     4256.739022   1609.191821           0.007114    110.121549   \nstd      1955.987626    725.676046           0.084046    443.931753   \nmin         1.000000      0.000000           0.000000      0.000000   \n5%       1649.000000    625.000000           0.000000      0.000000   \n50%      4011.000000   1525.000000           0.000000      7.000000   \n95%      7550.500000   2844.000000           0.000000    415.000000   \nmax     37452.000000  16043.000000           1.000000  19496.000000   \n\n            PCTGQTRS  LILATracts_1And10  ...  TractSeniors    TractWhite  \\\ncount   72506.000000       72531.000000  ...  72527.000000  72527.000000   \nunique           NaN                NaN  ...           NaN           NaN   \ntop              NaN                NaN  ...           NaN           NaN   \nfreq             NaN                NaN  ...           NaN           NaN   \nmean        2.708678           0.128125  ...    555.197113   3082.337157   \nstd         9.570881           0.334231  ...    351.805391   1796.364560   \nmin         0.000000           0.000000  ...      0.000000      0.000000   \n5%          0.000000           0.000000  ...    139.000000    351.000000   \n50%         0.181130           0.000000  ...    497.000000   2914.000000   \n95%        11.230511           1.000000  ...   1144.700000   6197.000000   \nmax       100.000000           1.000000  ...  17271.000000  28983.000000   \n\n          TractBlack    TractAsian    TractNHOPI     TractAIAN  TractOMultir  \\\ncount   72527.000000  72527.000000  72527.000000  72527.000000  72527.000000   \nunique           NaN           NaN           NaN           NaN           NaN   \ntop              NaN           NaN           NaN           NaN           NaN   \nfreq             NaN           NaN           NaN           NaN           NaN   \nmean      536.756160    202.327685      7.445655     40.152316    387.664649   \nstd       889.118109    435.878339     45.186581    177.378696    529.349680   \nmin         0.000000      0.000000      0.000000      0.000000      0.000000   \n5%          7.000000      3.000000      0.000000      2.000000     30.000000   \n50%       160.000000     58.000000      1.000000     15.000000    186.000000   \n95%      2429.000000    883.000000     25.000000    103.000000   1501.000000   \nmax     16804.000000  10485.000000   3491.000000   9009.000000   8839.000000   \n\n        TractHispanic     TractHUNV     TractSNAP  \ncount    72527.000000  72527.000000  72527.000000  \nunique            NaN           NaN           NaN  \ntop               NaN           NaN           NaN  \nfreq              NaN           NaN           NaN  \nmean       695.979277    143.709736    201.753182  \nstd       1119.472739    232.738869    185.760089  \nmin          0.000000      0.000000      0.000000  \n5%          24.000000      7.000000     10.000000  \n50%        243.000000     82.000000    152.000000  \n95%       3140.700000    446.000000    560.000000  \nmax      15420.000000   6059.000000   2175.000000  \n\n[11 rows x 147 columns]",
      "text/html": "<div>\n<style scoped>\n    .dataframe tbody tr th:only-of-type {\n        vertical-align: middle;\n    }\n\n    .dataframe tbody tr th {\n        vertical-align: top;\n    }\n\n    .dataframe thead th {\n        text-align: right;\n    }\n</style>\n<table border=\"1\" class=\"dataframe\">\n  <thead>\n    <tr style=\"text-align: right;\">\n      <th></th>\n      <th>CensusTract</th>\n      <th>State</th>\n      <th>County</th>\n      <th>Urban</th>\n      <th>Pop2010</th>\n      <th>OHU2010</th>\n      <th>GroupQuartersFlag</th>\n      <th>NUMGQTRS</th>\n      <th>PCTGQTRS</th>\n      <th>LILATracts_1And10</th>\n      <th>...</th>\n      <th>TractSeniors</th>\n      <th>TractWhite</th>\n      <th>TractBlack</th>\n      <th>TractAsian</th>\n      <th>TractNHOPI</th>\n      <th>TractAIAN</th>\n      <th>TractOMultir</th>\n      <th>TractHispanic</th>\n      <th>TractHUNV</th>\n      <th>TractSNAP</th>\n    </tr>\n  </thead>\n  <tbody>\n    <tr>\n      <th>count</th>\n      <td>7.253100e+04</td>\n      <td>72531</td>\n      <td>72531</td>\n      <td>72531.000000</td>\n      <td>72531.000000</td>\n      <td>72531.000000</td>\n      <td>72531.000000</td>\n      <td>72506.000000</td>\n      <td>72506.000000</td>\n      <td>72531.000000</td>\n      <td>...</td>\n      <td>72527.000000</td>\n      <td>72527.000000</td>\n      <td>72527.000000</td>\n      <td>72527.000000</td>\n      <td>72527.000000</td>\n      <td>72527.000000</td>\n      <td>72527.000000</td>\n      <td>72527.000000</td>\n      <td>72527.000000</td>\n      <td>72527.000000</td>\n    </tr>\n    <tr>\n      <th>unique</th>\n      <td>NaN</td>\n      <td>51</td>\n      <td>1877</td>\n      <td>NaN</td>\n      <td>NaN</td>\n      <td>NaN</td>\n      <td>NaN</td>\n      <td>NaN</td>\n      <td>NaN</td>\n      <td>NaN</td>\n      <td>...</td>\n      <td>NaN</td>\n      <td>NaN</td>\n      <td>NaN</td>\n      <td>NaN</td>\n      <td>NaN</td>\n      <td>NaN</td>\n      <td>NaN</td>\n      <td>NaN</td>\n      <td>NaN</td>\n      <td>NaN</td>\n    </tr>\n    <tr>\n      <th>top</th>\n      <td>NaN</td>\n      <td>California</td>\n      <td>Los Angeles County</td>\n      <td>NaN</td>\n      <td>NaN</td>\n      <td>NaN</td>\n      <td>NaN</td>\n      <td>NaN</td>\n      <td>NaN</td>\n      <td>NaN</td>\n      <td>...</td>\n      <td>NaN</td>\n      <td>NaN</td>\n      <td>NaN</td>\n      <td>NaN</td>\n      <td>NaN</td>\n      <td>NaN</td>\n      <td>NaN</td>\n      <td>NaN</td>\n      <td>NaN</td>\n      <td>NaN</td>\n    </tr>\n    <tr>\n      <th>freq</th>\n      <td>NaN</td>\n      <td>8024</td>\n      <td>2334</td>\n      <td>NaN</td>\n      <td>NaN</td>\n      <td>NaN</td>\n      <td>NaN</td>\n      <td>NaN</td>\n      <td>NaN</td>\n      <td>NaN</td>\n      <td>...</td>\n      <td>NaN</td>\n      <td>NaN</td>\n      <td>NaN</td>\n      <td>NaN</td>\n      <td>NaN</td>\n      <td>NaN</td>\n      <td>NaN</td>\n      <td>NaN</td>\n      <td>NaN</td>\n      <td>NaN</td>\n    </tr>\n    <tr>\n      <th>mean</th>\n      <td>2.782573e+10</td>\n      <td>NaN</td>\n      <td>NaN</td>\n      <td>0.760626</td>\n      <td>4256.739022</td>\n      <td>1609.191821</td>\n      <td>0.007114</td>\n      <td>110.121549</td>\n      <td>2.708678</td>\n      <td>0.128125</td>\n      <td>...</td>\n      <td>555.197113</td>\n      <td>3082.337157</td>\n      <td>536.756160</td>\n      <td>202.327685</td>\n      <td>7.445655</td>\n      <td>40.152316</td>\n      <td>387.664649</td>\n      <td>695.979277</td>\n      <td>143.709736</td>\n      <td>201.753182</td>\n    </tr>\n    <tr>\n      <th>std</th>\n      <td>1.581647e+10</td>\n      <td>NaN</td>\n      <td>NaN</td>\n      <td>0.426704</td>\n      <td>1955.987626</td>\n      <td>725.676046</td>\n      <td>0.084046</td>\n      <td>443.931753</td>\n      <td>9.570881</td>\n      <td>0.334231</td>\n      <td>...</td>\n      <td>351.805391</td>\n      <td>1796.364560</td>\n      <td>889.118109</td>\n      <td>435.878339</td>\n      <td>45.186581</td>\n      <td>177.378696</td>\n      <td>529.349680</td>\n      <td>1119.472739</td>\n      <td>232.738869</td>\n      <td>185.760089</td>\n    </tr>\n    <tr>\n      <th>min</th>\n      <td>1.001020e+09</td>\n      <td>NaN</td>\n      <td>NaN</td>\n      <td>0.000000</td>\n      <td>1.000000</td>\n      <td>0.000000</td>\n      <td>0.000000</td>\n      <td>0.000000</td>\n      <td>0.000000</td>\n      <td>0.000000</td>\n      <td>...</td>\n      <td>0.000000</td>\n      <td>0.000000</td>\n      <td>0.000000</td>\n      <td>0.000000</td>\n      <td>0.000000</td>\n      <td>0.000000</td>\n      <td>0.000000</td>\n      <td>0.000000</td>\n      <td>0.000000</td>\n      <td>0.000000</td>\n    </tr>\n    <tr>\n      <th>5%</th>\n      <td>6.001407e+09</td>\n      <td>NaN</td>\n      <td>NaN</td>\n      <td>0.000000</td>\n      <td>1649.000000</td>\n      <td>625.000000</td>\n      <td>0.000000</td>\n      <td>0.000000</td>\n      <td>0.000000</td>\n      <td>0.000000</td>\n      <td>...</td>\n      <td>139.000000</td>\n      <td>351.000000</td>\n      <td>7.000000</td>\n      <td>3.000000</td>\n      <td>0.000000</td>\n      <td>2.000000</td>\n      <td>30.000000</td>\n      <td>24.000000</td>\n      <td>7.000000</td>\n      <td>10.000000</td>\n    </tr>\n    <tr>\n      <th>50%</th>\n      <td>2.712979e+10</td>\n      <td>NaN</td>\n      <td>NaN</td>\n      <td>1.000000</td>\n      <td>4011.000000</td>\n      <td>1525.000000</td>\n      <td>0.000000</td>\n      <td>7.000000</td>\n      <td>0.181130</td>\n      <td>0.000000</td>\n      <td>...</td>\n      <td>497.000000</td>\n      <td>2914.000000</td>\n      <td>160.000000</td>\n      <td>58.000000</td>\n      <td>1.000000</td>\n      <td>15.000000</td>\n      <td>186.000000</td>\n      <td>243.000000</td>\n      <td>82.000000</td>\n      <td>152.000000</td>\n    </tr>\n    <tr>\n      <th>95%</th>\n      <td>5.176007e+10</td>\n      <td>NaN</td>\n      <td>NaN</td>\n      <td>1.000000</td>\n      <td>7550.500000</td>\n      <td>2844.000000</td>\n      <td>0.000000</td>\n      <td>415.000000</td>\n      <td>11.230511</td>\n      <td>1.000000</td>\n      <td>...</td>\n      <td>1144.700000</td>\n      <td>6197.000000</td>\n      <td>2429.000000</td>\n      <td>883.000000</td>\n      <td>25.000000</td>\n      <td>103.000000</td>\n      <td>1501.000000</td>\n      <td>3140.700000</td>\n      <td>446.000000</td>\n      <td>560.000000</td>\n    </tr>\n    <tr>\n      <th>max</th>\n      <td>5.604595e+10</td>\n      <td>NaN</td>\n      <td>NaN</td>\n      <td>1.000000</td>\n      <td>37452.000000</td>\n      <td>16043.000000</td>\n      <td>1.000000</td>\n      <td>19496.000000</td>\n      <td>100.000000</td>\n      <td>1.000000</td>\n      <td>...</td>\n      <td>17271.000000</td>\n      <td>28983.000000</td>\n      <td>16804.000000</td>\n      <td>10485.000000</td>\n      <td>3491.000000</td>\n      <td>9009.000000</td>\n      <td>8839.000000</td>\n      <td>15420.000000</td>\n      <td>6059.000000</td>\n      <td>2175.000000</td>\n    </tr>\n  </tbody>\n</table>\n<p>11 rows × 147 columns</p>\n</div>"
     },
     "execution_count": 41,
     "metadata": {},
     "output_type": "execute_result"
    }
   ],
   "source": [
    "data.describe(include='all', percentiles=[0.05, 0.95])"
   ],
   "metadata": {
    "collapsed": false
   }
  },
  {
   "cell_type": "code",
   "execution_count": 42,
   "outputs": [
    {
     "data": {
      "text/plain": "3825887.594525679"
     },
     "execution_count": 42,
     "metadata": {},
     "output_type": "execute_result"
    }
   ],
   "source": [
    "data['Pop2010'].var()"
   ],
   "metadata": {
    "collapsed": false
   }
  },
  {
   "cell_type": "code",
   "execution_count": 43,
   "outputs": [
    {
     "data": {
      "text/plain": "array(['Alabama', 'Alaska', 'Arizona', 'Arkansas', 'California',\n       'Colorado', 'Connecticut', 'Delaware', 'District of Columbia',\n       'Florida', 'Georgia', 'Hawaii', 'Idaho', 'Illinois', 'Indiana',\n       'Iowa', 'Kansas', 'Kentucky', 'Louisiana', 'Maine', 'Maryland',\n       'Massachusetts', 'Michigan', 'Minnesota', 'Mississippi',\n       'Missouri', 'Montana', 'Nebraska', 'Nevada', 'New Hampshire',\n       'New Jersey', 'New Mexico', 'New York', 'North Carolina',\n       'North Dakota', 'Ohio', 'Oklahoma', 'Oregon', 'Pennsylvania',\n       'Rhode Island', 'South Carolina', 'South Dakota', 'Tennessee',\n       'Texas', 'Utah', 'Vermont', 'Virginia', 'Washington',\n       'West Virginia', 'Wisconsin', 'Wyoming'], dtype=object)"
     },
     "execution_count": 43,
     "metadata": {},
     "output_type": "execute_result"
    }
   ],
   "source": [
    "data['State'].unique()"
   ],
   "metadata": {
    "collapsed": false
   }
  },
  {
   "cell_type": "code",
   "execution_count": 44,
   "outputs": [
    {
     "data": {
      "text/plain": "array([ 1001020100,  1001020200,  1001020300, ..., 56043000302,\n       56045951100, 56045951300], dtype=int64)"
     },
     "execution_count": 44,
     "metadata": {},
     "output_type": "execute_result"
    }
   ],
   "source": [
    "data['CensusTract'].unique()"
   ],
   "metadata": {
    "collapsed": false
   }
  },
  {
   "cell_type": "markdown",
   "source": [
    "## 1.3 Adding and removing data"
   ],
   "metadata": {
    "collapsed": false
   }
  },
  {
   "cell_type": "code",
   "execution_count": 45,
   "outputs": [],
   "source": [],
   "metadata": {
    "collapsed": false
   }
  },
  {
   "cell_type": "markdown",
   "source": [
    "# 2. Exploratory data analysis (EDA)"
   ],
   "metadata": {
    "collapsed": false
   }
  },
  {
   "cell_type": "markdown",
   "source": [
    "## 2.1 Data wrangling"
   ],
   "metadata": {
    "collapsed": false
   }
  },
  {
   "cell_type": "markdown",
   "source": [
    "## 2.2 Data Aggregating"
   ],
   "metadata": {
    "collapsed": false
   }
  },
  {
   "cell_type": "markdown",
   "source": [
    "## 2.3 Visualizing Data"
   ],
   "metadata": {
    "collapsed": false
   }
  },
  {
   "cell_type": "markdown",
   "source": [
    "## 2.4 Plotting"
   ],
   "metadata": {
    "collapsed": false
   }
  },
  {
   "cell_type": "markdown",
   "source": [
    "# 3. Conclusions"
   ],
   "metadata": {
    "collapsed": false
   }
  },
  {
   "cell_type": "code",
   "execution_count": null,
   "outputs": [],
   "source": [],
   "metadata": {
    "collapsed": false
   }
  }
 ],
 "metadata": {
  "kernelspec": {
   "display_name": "Python 3",
   "language": "python",
   "name": "python3"
  },
  "language_info": {
   "codemirror_mode": {
    "name": "ipython",
    "version": 2
   },
   "file_extension": ".py",
   "mimetype": "text/x-python",
   "name": "python",
   "nbconvert_exporter": "python",
   "pygments_lexer": "ipython2",
   "version": "2.7.6"
  }
 },
 "nbformat": 4,
 "nbformat_minor": 0
}
